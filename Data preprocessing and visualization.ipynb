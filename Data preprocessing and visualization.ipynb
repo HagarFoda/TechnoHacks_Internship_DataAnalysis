{
 "cells": [
  {
   "cell_type": "code",
   "execution_count": 2,
   "id": "0966a43f",
   "metadata": {},
   "outputs": [],
   "source": [
    "import matplotlib.pyplot as plt\n",
    "import seaborn as sns\n",
    "import pandas as pd\n",
    "import numpy as np\n",
    "from scipy import stats\n"
   ]
  },
  {
   "cell_type": "markdown",
   "id": "c0683005",
   "metadata": {},
   "source": [
    "Data Dictionary\n",
    "Variable\tDefinition\t                                   Key\n",
    "survival\tSurvival\t                                   0 = No, 1 = Yes\n",
    "pclass\t    Ticket class\t                               1 = 1st, 2 = 2nd, 3 = 3rd\n",
    "sex\t        Sex\t\n",
    "Age\t        Age in years\t\n",
    "sibsp\t    # of siblings / spouses aboard the Titanic\t\n",
    "parch\t    # of parents / children aboard the Titanic\t\n",
    "ticket\t    Ticket number\t\n",
    "fare\t    Passenger fare\t\n",
    "cabin\t    Cabin number\t\n",
    "embarked\tPort of Embarkation"
   ]
  },
  {
   "cell_type": "code",
   "execution_count": 3,
   "id": "e6c2acfc",
   "metadata": {},
   "outputs": [],
   "source": [
    "df = pd.read_csv('train.csv')\n"
   ]
  },
  {
   "cell_type": "code",
   "execution_count": 4,
   "id": "6d2cbc30",
   "metadata": {},
   "outputs": [
    {
     "data": {
      "text/plain": [
       "(891, 12)"
      ]
     },
     "execution_count": 4,
     "metadata": {},
     "output_type": "execute_result"
    }
   ],
   "source": [
    "df.shape\n"
   ]
  },
  {
   "cell_type": "markdown",
   "id": "c39d337f",
   "metadata": {},
   "source": [
    "# Duplicated Values\n"
   ]
  },
  {
   "cell_type": "code",
   "execution_count": 5,
   "id": "63dfc011",
   "metadata": {},
   "outputs": [
    {
     "data": {
      "text/plain": [
       "0"
      ]
     },
     "execution_count": 5,
     "metadata": {},
     "output_type": "execute_result"
    }
   ],
   "source": [
    "df.duplicated().sum()\n"
   ]
  },
  {
   "cell_type": "code",
   "execution_count": 6,
   "id": "5f43256e",
   "metadata": {},
   "outputs": [
    {
     "data": {
      "text/plain": [
       "PassengerId      int64\n",
       "Survived         int64\n",
       "Pclass           int64\n",
       "Name            object\n",
       "Sex             object\n",
       "Age            float64\n",
       "SibSp            int64\n",
       "Parch            int64\n",
       "Ticket          object\n",
       "Fare           float64\n",
       "Cabin           object\n",
       "Embarked        object\n",
       "dtype: object"
      ]
     },
     "execution_count": 6,
     "metadata": {},
     "output_type": "execute_result"
    }
   ],
   "source": [
    "df.dtypes\n"
   ]
  },
  {
   "cell_type": "markdown",
   "id": "edba3aa2",
   "metadata": {},
   "source": [
    "# Age and cabin has some missing values \n"
   ]
  },
  {
   "cell_type": "code",
   "execution_count": 7,
   "id": "6b144521",
   "metadata": {},
   "outputs": [
    {
     "name": "stdout",
     "output_type": "stream",
     "text": [
      "<class 'pandas.core.frame.DataFrame'>\n",
      "RangeIndex: 891 entries, 0 to 890\n",
      "Data columns (total 12 columns):\n",
      " #   Column       Non-Null Count  Dtype  \n",
      "---  ------       --------------  -----  \n",
      " 0   PassengerId  891 non-null    int64  \n",
      " 1   Survived     891 non-null    int64  \n",
      " 2   Pclass       891 non-null    int64  \n",
      " 3   Name         891 non-null    object \n",
      " 4   Sex          891 non-null    object \n",
      " 5   Age          714 non-null    float64\n",
      " 6   SibSp        891 non-null    int64  \n",
      " 7   Parch        891 non-null    int64  \n",
      " 8   Ticket       891 non-null    object \n",
      " 9   Fare         891 non-null    float64\n",
      " 10  Cabin        204 non-null    object \n",
      " 11  Embarked     889 non-null    object \n",
      "dtypes: float64(2), int64(5), object(5)\n",
      "memory usage: 83.7+ KB\n"
     ]
    }
   ],
   "source": [
    "df.info()\n"
   ]
  },
  {
   "cell_type": "code",
   "execution_count": 8,
   "id": "39ac9054",
   "metadata": {},
   "outputs": [
    {
     "data": {
      "text/plain": [
       "PassengerId      0\n",
       "Survived         0\n",
       "Pclass           0\n",
       "Name             0\n",
       "Sex              0\n",
       "Age            177\n",
       "SibSp            0\n",
       "Parch            0\n",
       "Ticket           0\n",
       "Fare             0\n",
       "Cabin          687\n",
       "Embarked         2\n",
       "dtype: int64"
      ]
     },
     "execution_count": 8,
     "metadata": {},
     "output_type": "execute_result"
    }
   ],
   "source": [
    "df.isnull().sum()\n"
   ]
  },
  {
   "cell_type": "markdown",
   "id": "30a451f2",
   "metadata": {},
   "source": [
    "# Handling age missing values\n"
   ]
  },
  {
   "cell_type": "code",
   "execution_count": 9,
   "id": "bc51a3db",
   "metadata": {},
   "outputs": [],
   "source": [
    "mean_age = df['Age'].mean()\n",
    "df['Age'].fillna(mean_age, inplace=True)"
   ]
  },
  {
   "cell_type": "code",
   "execution_count": 10,
   "id": "8acd5a87",
   "metadata": {},
   "outputs": [
    {
     "data": {
      "text/plain": [
       "PassengerId      0\n",
       "Survived         0\n",
       "Pclass           0\n",
       "Name             0\n",
       "Sex              0\n",
       "Age              0\n",
       "SibSp            0\n",
       "Parch            0\n",
       "Ticket           0\n",
       "Fare             0\n",
       "Cabin          687\n",
       "Embarked         2\n",
       "dtype: int64"
      ]
     },
     "execution_count": 10,
     "metadata": {},
     "output_type": "execute_result"
    }
   ],
   "source": [
    "df.isnull().sum()\n"
   ]
  },
  {
   "cell_type": "markdown",
   "id": "8674a04b",
   "metadata": {},
   "source": [
    "# Dropping some unimportant features\n"
   ]
  },
  {
   "cell_type": "code",
   "execution_count": 11,
   "id": "e0bd344a",
   "metadata": {},
   "outputs": [],
   "source": [
    "df.drop(['PassengerId', 'Cabin','Name'], axis=1, inplace= True)\n"
   ]
  },
  {
   "cell_type": "code",
   "execution_count": 12,
   "id": "86f707a4",
   "metadata": {},
   "outputs": [],
   "source": [
    "df.dropna(subset=['Embarked'], inplace=True)\n"
   ]
  },
  {
   "cell_type": "code",
   "execution_count": 13,
   "id": "11333abe",
   "metadata": {},
   "outputs": [
    {
     "data": {
      "text/plain": [
       "Survived    0\n",
       "Pclass      0\n",
       "Sex         0\n",
       "Age         0\n",
       "SibSp       0\n",
       "Parch       0\n",
       "Ticket      0\n",
       "Fare        0\n",
       "Embarked    0\n",
       "dtype: int64"
      ]
     },
     "execution_count": 13,
     "metadata": {},
     "output_type": "execute_result"
    }
   ],
   "source": [
    "df.isnull().sum()\n"
   ]
  },
  {
   "cell_type": "markdown",
   "id": "89d4945a",
   "metadata": {},
   "source": [
    "# Finding inconsistent categories\n"
   ]
  },
  {
   "cell_type": "code",
   "execution_count": 14,
   "id": "1f9f39c2",
   "metadata": {},
   "outputs": [
    {
     "name": "stdout",
     "output_type": "stream",
     "text": [
      "set()\n"
     ]
    }
   ],
   "source": [
    "inconsistent_categories = set(df['Sex']).difference(df['Sex'])\n",
    "print(inconsistent_categories)"
   ]
  },
  {
   "cell_type": "markdown",
   "id": "d6ccc213",
   "metadata": {},
   "source": [
    "# Removing Outliers"
   ]
  },
  {
   "cell_type": "code",
   "execution_count": 15,
   "id": "2741d7a4",
   "metadata": {},
   "outputs": [],
   "source": [
    "z_threshold = 2\n"
   ]
  },
  {
   "cell_type": "markdown",
   "id": "69b89675",
   "metadata": {},
   "source": [
    "# Calculate Z-scores for 'Age' and 'Fare' columns\n"
   ]
  },
  {
   "cell_type": "code",
   "execution_count": 16,
   "id": "fe30a71b",
   "metadata": {},
   "outputs": [],
   "source": [
    "z_scores_age = stats.zscore(df['Age'])\n",
    "z_scores_fare = stats.zscore(df['Fare'])\n"
   ]
  },
  {
   "cell_type": "markdown",
   "id": "1b6846f2",
   "metadata": {},
   "source": [
    "# Filter out rows where Z-scores exceed the threshold for 'Age' and 'Fare'\n"
   ]
  },
  {
   "cell_type": "code",
   "execution_count": 17,
   "id": "eb5ddaa1",
   "metadata": {},
   "outputs": [],
   "source": [
    "df_no_outliers = df[(abs(z_scores_age) <= z_threshold) & (abs(z_scores_fare) <= z_threshold)]"
   ]
  },
  {
   "cell_type": "markdown",
   "id": "e4727333",
   "metadata": {},
   "source": [
    "Now 'df_no_outliers' contains the data with outliers removed from 'Age' and 'Fare' columns"
   ]
  },
  {
   "cell_type": "code",
   "execution_count": 18,
   "id": "52196de8",
   "metadata": {},
   "outputs": [],
   "source": [
    "def cap_outliers(df, column, iqr_factor=1.5):\n",
    "  \"\"\"Caps outliers in a given column of a Pandas DataFrame.\n",
    "\n",
    "  Args:\n",
    "    df: A Pandas DataFrame.\n",
    "    column: The name of the column to cap outliers in.\n",
    "    iqr_factor: A factor used to calculate the outlier thresholds.\n",
    "\n",
    "  Returns:\n",
    "    A Pandas DataFrame with the outliers capped.\n",
    "  \"\"\"\n",
    "\n",
    "  # Calculate the IQR of the column.\n",
    "  q1 = df[column].quantile(0.25)\n",
    "  q3 = df[column].quantile(0.75)\n",
    "  iqr = q3 - q1\n",
    "\n",
    "  # Calculate the outlier thresholds.\n",
    "  lower_threshold = q1 - (iqr_factor * iqr)\n",
    "  upper_threshold = q3 + (iqr_factor * iqr)\n",
    "\n",
    "  # Cap the outliers.\n",
    "  df[column] = df[column].where(df[column] >= lower_threshold, lower_threshold)\n",
    "  df[column] = df[column].where(df[column] <= upper_threshold, upper_threshold)\n",
    "\n",
    "  return df\n",
    "\n",
    "df = cap_outliers(df.copy(), 'Fare')\n",
    "\n"
   ]
  },
  {
   "cell_type": "markdown",
   "id": "440fe170",
   "metadata": {},
   "source": [
    "# Separing the numeric and categorical data"
   ]
  },
  {
   "cell_type": "code",
   "execution_count": 19,
   "id": "7b4491c5",
   "metadata": {},
   "outputs": [],
   "source": [
    "df_num = df[['Age','SibSp','Parch','Fare']]\n",
    "df_cat = df[['Survived','Pclass','Sex','Ticket','Embarked']]\n"
   ]
  },
  {
   "cell_type": "code",
   "execution_count": 20,
   "id": "6ce18aed",
   "metadata": {},
   "outputs": [],
   "source": [
    "df.to_csv('titanic_clean.csv', index=False)\n"
   ]
  },
  {
   "cell_type": "markdown",
   "id": "e641dca3",
   "metadata": {},
   "source": [
    "# Summary statistics"
   ]
  },
  {
   "cell_type": "code",
   "execution_count": 21,
   "id": "e6892bcd",
   "metadata": {},
   "outputs": [
    {
     "name": "stdout",
     "output_type": "stream",
     "text": [
      "Summary Statistics for 'Age' column:\n",
      "Mean: 29.65344637067425\n",
      "Median: 29.69911764705882\n",
      "Mode: 29.69911764705882\n",
      "Standard Deviation: 12.968366309252332\n",
      "\n",
      "Summary Statistics for 'Fare' column:\n",
      "Mean: 23.956061304836897\n",
      "Median: 14.4542\n",
      "Mode: 65.6563\n",
      "Standard Deviation: 20.414996607664037\n"
     ]
    }
   ],
   "source": [
    "age_mean = df['Age'].mean()\n",
    "age_median = df['Age'].median()\n",
    "age_mode = df['Age'].mode().values[0]  # Mode can be a list, so we take the first element\n",
    "age_std = df['Age'].std()\n",
    "\n",
    "fare_mean = df['Fare'].mean()\n",
    "fare_median = df['Fare'].median()\n",
    "fare_mode = df['Fare'].mode().values[0]\n",
    "fare_std = df['Fare'].std()\n",
    "\n",
    "# Print the calculated statistics\n",
    "print(\"Summary Statistics for 'Age' column:\")\n",
    "print(f\"Mean: {age_mean}\")\n",
    "print(f\"Median: {age_median}\")\n",
    "print(f\"Mode: {age_mode}\")\n",
    "print(f\"Standard Deviation: {age_std}\\n\")\n",
    "\n",
    "print(\"Summary Statistics for 'Fare' column:\")\n",
    "print(f\"Mean: {fare_mean}\")\n",
    "print(f\"Median: {fare_median}\")\n",
    "print(f\"Mode: {fare_mode}\")\n",
    "print(f\"Standard Deviation: {fare_std}\")\n"
   ]
  },
  {
   "cell_type": "code",
   "execution_count": 22,
   "id": "ec931d9b",
   "metadata": {},
   "outputs": [
    {
     "data": {
      "text/html": [
       "<div>\n",
       "<style scoped>\n",
       "    .dataframe tbody tr th:only-of-type {\n",
       "        vertical-align: middle;\n",
       "    }\n",
       "\n",
       "    .dataframe tbody tr th {\n",
       "        vertical-align: top;\n",
       "    }\n",
       "\n",
       "    .dataframe thead th {\n",
       "        text-align: right;\n",
       "    }\n",
       "</style>\n",
       "<table border=\"1\" class=\"dataframe\">\n",
       "  <thead>\n",
       "    <tr style=\"text-align: right;\">\n",
       "      <th></th>\n",
       "      <th>Survived</th>\n",
       "      <th>Pclass</th>\n",
       "      <th>Age</th>\n",
       "      <th>SibSp</th>\n",
       "      <th>Parch</th>\n",
       "      <th>Fare</th>\n",
       "    </tr>\n",
       "  </thead>\n",
       "  <tbody>\n",
       "    <tr>\n",
       "      <th>count</th>\n",
       "      <td>889.000000</td>\n",
       "      <td>889.000000</td>\n",
       "      <td>889.000000</td>\n",
       "      <td>889.000000</td>\n",
       "      <td>889.000000</td>\n",
       "      <td>889.000000</td>\n",
       "    </tr>\n",
       "    <tr>\n",
       "      <th>mean</th>\n",
       "      <td>0.382452</td>\n",
       "      <td>2.311586</td>\n",
       "      <td>29.653446</td>\n",
       "      <td>0.524184</td>\n",
       "      <td>0.382452</td>\n",
       "      <td>23.956061</td>\n",
       "    </tr>\n",
       "    <tr>\n",
       "      <th>std</th>\n",
       "      <td>0.486260</td>\n",
       "      <td>0.834700</td>\n",
       "      <td>12.968366</td>\n",
       "      <td>1.103705</td>\n",
       "      <td>0.806761</td>\n",
       "      <td>20.414997</td>\n",
       "    </tr>\n",
       "    <tr>\n",
       "      <th>min</th>\n",
       "      <td>0.000000</td>\n",
       "      <td>1.000000</td>\n",
       "      <td>0.420000</td>\n",
       "      <td>0.000000</td>\n",
       "      <td>0.000000</td>\n",
       "      <td>0.000000</td>\n",
       "    </tr>\n",
       "    <tr>\n",
       "      <th>25%</th>\n",
       "      <td>0.000000</td>\n",
       "      <td>2.000000</td>\n",
       "      <td>22.000000</td>\n",
       "      <td>0.000000</td>\n",
       "      <td>0.000000</td>\n",
       "      <td>7.895800</td>\n",
       "    </tr>\n",
       "    <tr>\n",
       "      <th>50%</th>\n",
       "      <td>0.000000</td>\n",
       "      <td>3.000000</td>\n",
       "      <td>29.699118</td>\n",
       "      <td>0.000000</td>\n",
       "      <td>0.000000</td>\n",
       "      <td>14.454200</td>\n",
       "    </tr>\n",
       "    <tr>\n",
       "      <th>75%</th>\n",
       "      <td>1.000000</td>\n",
       "      <td>3.000000</td>\n",
       "      <td>35.000000</td>\n",
       "      <td>1.000000</td>\n",
       "      <td>0.000000</td>\n",
       "      <td>31.000000</td>\n",
       "    </tr>\n",
       "    <tr>\n",
       "      <th>max</th>\n",
       "      <td>1.000000</td>\n",
       "      <td>3.000000</td>\n",
       "      <td>80.000000</td>\n",
       "      <td>8.000000</td>\n",
       "      <td>6.000000</td>\n",
       "      <td>65.656300</td>\n",
       "    </tr>\n",
       "  </tbody>\n",
       "</table>\n",
       "</div>"
      ],
      "text/plain": [
       "         Survived      Pclass         Age       SibSp       Parch        Fare\n",
       "count  889.000000  889.000000  889.000000  889.000000  889.000000  889.000000\n",
       "mean     0.382452    2.311586   29.653446    0.524184    0.382452   23.956061\n",
       "std      0.486260    0.834700   12.968366    1.103705    0.806761   20.414997\n",
       "min      0.000000    1.000000    0.420000    0.000000    0.000000    0.000000\n",
       "25%      0.000000    2.000000   22.000000    0.000000    0.000000    7.895800\n",
       "50%      0.000000    3.000000   29.699118    0.000000    0.000000   14.454200\n",
       "75%      1.000000    3.000000   35.000000    1.000000    0.000000   31.000000\n",
       "max      1.000000    3.000000   80.000000    8.000000    6.000000   65.656300"
      ]
     },
     "execution_count": 22,
     "metadata": {},
     "output_type": "execute_result"
    }
   ],
   "source": [
    "df.describe()\n"
   ]
  },
  {
   "cell_type": "markdown",
   "id": "cf6f0a5d",
   "metadata": {},
   "source": [
    "# Data Visualization"
   ]
  },
  {
   "cell_type": "code",
   "execution_count": 23,
   "id": "cf3a6054",
   "metadata": {},
   "outputs": [
    {
     "data": {
      "image/png": "[encoded data removed]",
      "text/plain": [
       "<Figure size 640x480 with 1 Axes>"
      ]
     },
     "metadata": {},
     "output_type": "display_data"
    },
    {
     "data": {
      "image/png": "[encoded data removed]",
      "text/plain": [
       "<Figure size 640x480 with 1 Axes>"
      ]
     },
     "metadata": {},
     "output_type": "display_data"
    },
    {
     "data": {
      "image/png": "[encoded data removed]",
      "text/plain": [
       "<Figure size 640x480 with 1 Axes>"
      ]
     },
     "metadata": {},
     "output_type": "display_data"
    },
    {
     "data": {
      "image/png": "[encoded data removed]",
      "text/plain": [
       "<Figure size 640x480 with 1 Axes>"
      ]
     },
     "metadata": {},
     "output_type": "display_data"
    }
   ],
   "source": [
    "#distributions for all numeric variables \n",
    "#Only age is normally distriputed but the reset aren't, so we'll normalize them.\n",
    "\n",
    "for i in df_num.columns:\n",
    "    plt.hist(df_num[i])\n",
    "    plt.title(i)\n",
    "    plt.show()\n"
   ]
  },
  {
   "cell_type": "code",
   "execution_count": 24,
   "id": "23448bab",
   "metadata": {},
   "outputs": [
    {
     "data": {
      "text/plain": [
       "<Axes: xlabel='Age', ylabel='Count'>"
      ]
     },
     "execution_count": 24,
     "metadata": {},
     "output_type": "execute_result"
    },
    {
     "data": {
      "image/png": "[encoded data removed]",
      "text/plain": [
       "<Figure size 640x480 with 1 Axes>"
      ]
     },
     "metadata": {},
     "output_type": "display_data"
    }
   ],
   "source": [
    "sns.histplot(data=df, x=\"Age\", kde=True)\n"
   ]
  },
  {
   "cell_type": "code",
   "execution_count": 25,
   "id": "690f6ec2",
   "metadata": {},
   "outputs": [
    {
     "data": {
      "text/plain": [
       "<Axes: xlabel='Pclass', ylabel='count'>"
      ]
     },
     "execution_count": 25,
     "metadata": {},
     "output_type": "execute_result"
    },
    {
     "data": {
      "image/png": "[encoded data removed]",
      "text/plain": [
       "<Figure size 640x480 with 1 Axes>"
      ]
     },
     "metadata": {},
     "output_type": "display_data"
    }
   ],
   "source": [
    "# Create a bar chart of the 'Pclass' column\n",
    "sns.countplot(data=df, x=\"Pclass\", hue=\"Survived\")"
   ]
  },
  {
   "cell_type": "code",
   "execution_count": 26,
   "id": "767ddfba",
   "metadata": {},
   "outputs": [
    {
     "name": "stdout",
     "output_type": "stream",
     "text": [
      "            Age     SibSp     Parch      Fare\n",
      "Age    1.000000 -0.231875 -0.178232  0.131713\n",
      "SibSp -0.231875  1.000000  0.414542  0.335817\n",
      "Parch -0.178232  0.414542  1.000000  0.296199\n",
      "Fare   0.131713  0.335817  0.296199  1.000000\n"
     ]
    },
    {
     "data": {
      "text/plain": [
       "<Axes: >"
      ]
     },
     "execution_count": 26,
     "metadata": {},
     "output_type": "execute_result"
    },
    {
     "data": {
      "image/png": "[encoded data removed]",
      "text/plain": [
       "<Figure size 640x480 with 2 Axes>"
      ]
     },
     "metadata": {},
     "output_type": "display_data"
    }
   ],
   "source": [
    "print(df_num.corr())\n",
    "sns.heatmap(df_num.corr())\n",
    "#Siblings and family tends to travel together.\n"
   ]
  },
  {
   "cell_type": "code",
   "execution_count": null,
   "id": "90f23c9c",
   "metadata": {},
   "outputs": [],
   "source": []
  }
 ],
 "metadata": {
  "kernelspec": {
   "display_name": "Python 3 (ipykernel)",
   "language": "python",
   "name": "python3"
  },
  "language_info": {
   "codemirror_mode": {
    "name": "ipython",
    "version": 3
   },
   "file_extension": ".py",
   "mimetype": "text/x-python",
   "name": "python",
   "nbconvert_exporter": "python",
   "pygments_lexer": "ipython3",
   "version": "3.11.5"
  }
 },
 "nbformat": 4,
 "nbformat_minor": 5
}
